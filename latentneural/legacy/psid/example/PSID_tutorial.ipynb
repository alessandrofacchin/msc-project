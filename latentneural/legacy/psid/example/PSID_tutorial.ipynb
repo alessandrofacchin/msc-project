{
  "nbformat": 4,
  "nbformat_minor": 0,
  "metadata": {
    "colab": {
      "name": "PSID_example.ipynb",
      "provenance": [],
      "collapsed_sections": [],
      "toc_visible": true
    },
    "kernelspec": {
      "name": "python37664bitvenvvenvf3929383ca904dc2aca11221556ca367",
      "display_name": "Python 3.7.6 64-bit ('.venv': venv)",
      "language": "python"
    }
  },
  "cells": [
    {
      "cell_type": "markdown",
      "metadata": {
        "id": "isXmUBaxJanB"
      },
      "source": [
        "Written by: Omid G. Sani  \n",
        "Last update: Feb 5, 2021  \n",
        "GitHub link: https://github.com/ShanechiLab/PyPSID/blob/main/source/PSID/example/PSID_tutorial.ipynb  \n",
        "Google Collab link: https://colab.research.google.com/drive/16LwTXi_XJnBUlnhH0QXpa86x7CoKH0kZ"
      ]
    },
    {
      "cell_type": "markdown",
      "metadata": {
        "id": "0pXbrXQPKQRF"
      },
      "source": [
        "# What is PSID?\n",
        "\n",
        "PSID stands for preferential subspace identification, a method for dynamic modeling of time-series data, while priorotizing the dynamics shared with another time-series. \n",
        "\n",
        "For example, given signals $y_k$ (e.g. neural signals) and $z_k$ (e.g behavior), PSID learns a dynamic model for $y_k$ while prioritizing the dynamics that are relevant to $z_k$.\n",
        "\n",
        "For the derivation and results in real neural data see the paper below.\n",
        "\n",
        "**Publication:**\n",
        "\n",
        "Omid G. Sani, Hamidreza Abbaspourazad, Yan T. Wong, Bijan Pesaran, Maryam M. Shanechi. *Modeling behaviorally relevant neural dynamics enabled by preferential subspace identification*. Nature Neuroscience 24, 140–149 (2021). https://doi.org/10.1038/s41593-020-00733-0\n",
        "\n",
        "View-only full-text link: https://rdcu.be/b993t\n",
        "\n",
        "Original preprint: https://doi.org/10.1101/808154\n",
        "\n",
        "You can also find a summary of the paper in the following Twitter thread: https://twitter.com/MaryamShanechi/status/1325835609345122304"
      ]
    },
    {
      "cell_type": "markdown",
      "metadata": {
        "id": "BSlPMSM5Ai3P"
      },
      "source": [
        "# Installing PSID\n",
        "To use PSID, you can either get the source code from [the PSID Github repository](https://github.com/ShanechiLab/PSID), or install it in your Python environment using pip:\n",
        "\n",
        "For this notebook, we will use the source repository."
      ]
    },
    {
      "cell_type": "markdown",
      "metadata": {
        "id": "KsDpingpAhpK"
      },
      "source": [
        "# Using PSID\n",
        "## Modeling data\n",
        "To use PSID, you first need to import the library by running:\n",
        "```\n",
        "import psid\n",
        "```\n",
        "You can then use its main data modeling function as:\n",
        "```\n",
        "idSys = psid.PSID(y, z, nx, n1, i);\n",
        "```\n",
        "With the following arguments:\n",
        "- `y` and `z`: Neural (e.g. LFP signal powers or spike counts) and behavioral data (e.g. joint angles, hand position, etc), respectively. Dimensions are: time x data dimension (this can be changed with an optional argument documented in the code).\n",
        "- `nx`: the total dimension of the latent state in the model.\n",
        "- `n1`: the number of latent state dimensions that are going to be dedicated to behaviorally relevant neural dynamics.\n",
        "- `i`: the subspace horizon used for modeling. There is more on the choice of `i` later in this notebook, but numbers such as 5 or 10 are typically suitable values for `i`.\n",
        "\n",
        "And the following output:\n",
        "- `idSys`: an object containing all the learned model parameters ($A$, $C_y$, $C_z$, etc) and some prediction, etc methods. There is more on the model structure later in this notebook.\n",
        "\n",
        "## Using the model for dimension reduction, state estimation, and decoding\n",
        "For a learned PSID model `idSys` you can use the `predict` method to extract the latent state and prediction behavior and neural activity given any new neural data as:\n",
        "```\n",
        "zPred, yPred, xPred = idSys.predict(yTest)\n",
        "```\n",
        "With the argument:\n",
        "- `yTest`: Neural activity `y` in the test data. Dimensions are: time x data dimension.\n",
        "\n",
        "And outputs (all dimensions are time x data dimension):\n",
        "- `zPred`: Prediction of behavior using past neural activity at each data point.\n",
        "- `yPred`: Prediction of neural activity using past neural activity at each data point.\n",
        "- `xPred`: The latent state extarcted at each data point.\n",
        "\n",
        "We will next go through a complete example of using PSID in data.\n",
        "\n",
        "# A complete example\n",
        "In this example, we will use PSID to model some data. First, we import PSID and a few other useful tools from PSID and other libraries."
      ]
    },
    {
      "cell_type": "code",
      "metadata": {
        "id": "bcBhkYe_Bt22"
      },
      "source": [
        "import argparse, sys, os\n",
        "sys.path.insert(0, os.path.join('..', '..'))\n",
        "\n",
        "import numpy as np\n",
        "import matplotlib.pyplot as plt\n",
        "from matplotlib import patches\n",
        "\n",
        "import psid\n",
        "from psid.evaluation import evalPrediction\n",
        "from psid.MatHelper import loadmat"
      ],
      "execution_count": 1,
      "outputs": []
    },
    {
      "source": [
        "Let's start by loading an example model:"
      ],
      "cell_type": "markdown",
      "metadata": {}
    },
    {
      "cell_type": "code",
      "metadata": {
        "colab": {
          "base_uri": "https://localhost:8080/"
        },
        "id": "2DSKNITZB4r-",
        "outputId": "a33507ed-9df3-4041-d227-06b0e6317125"
      },
      "source": [
        "# Load data\n",
        "sample_model_path = os.path.join(os.path.dirname(psid.__file__), 'example', 'sample_model.mat')\n",
        "                 \n",
        "print('Loading example model from {}'.format(sample_model_path))\n",
        "data = loadmat(sample_model_path)\n",
        "# This is an example model (shown in Supplementary Fig. 1) with \n",
        "# (a) 2 behaviorally relevant latent states, \n",
        "# (b) 2 behaviorally irrelevant latent states, and \n",
        "# (c) 2 states that drive behavior but are not represented in neural activity"
      ],
      "execution_count": 2,
      "outputs": [
        {
          "output_type": "stream",
          "name": "stdout",
          "text": [
            "Loading example model from ../../psid/example/sample_model.mat\n"
          ]
        }
      ]
    },
    {
      "cell_type": "markdown",
      "metadata": {
        "id": "TKjZYzGV4Oya"
      },
      "source": [
        "The PSID model looks like this:\n",
        "\n",
        "$$ x_{k+1} = A x_k + w_k $$  \n",
        "\n",
        "$$ y_k = C_y x_k + v_k $$  \n",
        "\n",
        "$$ z_k = C_z x_k + \\epsilon_k $$  \n",
        "\n",
        "where $y_k \\in \\!R^{n_y}$ is the neural activity, $z_k \\in \\!R^{n_z}$ is the behavior, and $x_k \\in \\!R^{n_x}$ is the latent state the describes the dynamics in both. Importantly, PSID learns the model in the following format\n",
        "\n",
        "$$\n",
        "x_k = \\begin{bmatrix}\n",
        "x_k^{(1)} \\\\\n",
        "x_k^{(2)}\n",
        "\\end{bmatrix}\n",
        "$$\n",
        "\n",
        "where the behaviorally relevant dimensions of latent state ($x_k^{(1)} \\in \\!R^{n_1}$), which are those that drive $z_k$, are separated from the other dimensions ($x_k^{(2)} \\in \\!R^{n_2}$ with $n_2=n_x-n_1$). There are many equivalent ways of writing a latent state model such as this one, but PSID learns the one that uses minimal number of dimensions to explain behavior as parsimoniously as possible (you can find the precise definition in the paper). Critically, PSID can learn this minimal model (with only $x_k^{(1)}$) without having to also learn the rest of the model (the $x_k^{(2)}$ part). This allows it to learn the model more accurately, while requiring fewer training samples.\n",
        "\n",
        "\n",
        "Before going further, let's generate some sample data from this model."
      ]
    },
    {
      "cell_type": "code",
      "metadata": {
        "id": "-9bAIpLC4LaE"
      },
      "source": [
        "# Generating some sample data from this model\n",
        "np.random.seed(42) # For exact reproducibility\n",
        "\n",
        "N = int(2e4)\n",
        "trueSys = psid.LSSM(params=data['trueSys'])\n",
        "y, x = trueSys.generateRealization(N)\n",
        "z = (trueSys.Cz @ x.T).T\n",
        "\n",
        "# Add some z dynamics that are not encoded in y (i.e. epsilon)\n",
        "epsSys = psid.LSSM(params=data['epsSys'])\n",
        "eps, _ = epsSys.generateRealization(N)\n",
        "z += eps\n",
        "\n",
        "allYData, allZData = y, z"
      ],
      "execution_count": 3,
      "outputs": []
    },
    {
      "cell_type": "markdown",
      "metadata": {
        "id": "CQWYLQuwGWGY"
      },
      "source": [
        "Let's separate the data into training and test segments."
      ]
    },
    {
      "cell_type": "code",
      "metadata": {
        "id": "eiefXAMyExUa"
      },
      "source": [
        "# Separate data into training and test data:\r\n",
        "trainInds = np.arange(np.round(0.5*allYData.shape[0]), dtype=int)\r\n",
        "testInds = np.arange(1+trainInds[-1], allYData.shape[0])\r\n",
        "yTrain = allYData[trainInds, :]\r\n",
        "yTest = allYData[testInds, :]\r\n",
        "zTrain = allZData[trainInds, :]\r\n",
        "zTest = allZData[testInds, :]"
      ],
      "execution_count": 4,
      "outputs": []
    },
    {
      "cell_type": "markdown",
      "metadata": {
        "id": "5_HZ9Xd_G7ew"
      },
      "source": [
        "We will next use PSID in two ways:  \n",
        "1. Learn a model with a low-dimensional latent state that only focuses on learning the behaviorally relevant neural dynamics (i.e. uses stage 1 of PSID only).  \n",
        "2. Learn a model that also learns other neural dynamics (i.e. uses both stages of PSID)\n",
        "\n",
        "We will then plot the learned models' eigenvalues (the eigenvalues of the $A$ matrix) to show that PSID learns the correct dynamics in each case.\n",
        "\n",
        "First, let's learn a model with a 2 dimensional latent state that only learns the behaviorally relevant neural dyanmics. For this, we pass the arguments nx=2 and n1=2 to the PSID function:"
      ]
    },
    {
      "cell_type": "code",
      "metadata": {
        "colab": {
          "base_uri": "https://localhost:8080/"
        },
        "id": "KeAWDK3sGfmr",
        "outputId": "39967d6f-e864-4236-8c87-8af7dd489f1e"
      },
      "source": [
        "## (Example 1) PSID can be used to dissociate and extract only the \n",
        "# behaviorally relevant latent states (with nx = n1 = 2)\n",
        "idSys1 = psid.PSID(yTrain, zTrain, nx=2, n1=2, i=10)\n",
        "# You can also use the time_first=False argument if time is the second dimension:\n",
        "# idSys1 = psid.PSID(yTrain.T, zTrain.T, nx=2, n1=2, i=10, time_first=False) "
      ],
      "execution_count": 5,
      "outputs": []
    },
    {
      "source": [
        "The PSID learning function returns an object (here idSys1) that contains the learned model parameters and can be used to extract the latent states and decode behavior in new data. To do this, we use the 'predict' method in the learned model:"
      ],
      "cell_type": "markdown",
      "metadata": {}
    },
    {
      "cell_type": "code",
      "execution_count": 6,
      "metadata": {},
      "outputs": [
        {
          "output_type": "stream",
          "name": "stdout",
          "text": [
            "Behavior decoding CC:\n  PSID => 0.643, Ideal using true model => 0.643\n"
          ]
        }
      ],
      "source": [
        "# Predict behavior using the learned model\n",
        "zTestPred1, yTestPred1, xTestPred1 = idSys1.predict(yTest)\n",
        "\n",
        "# Compute CC of decoding\n",
        "CC = evalPrediction(zTest, zTestPred1, 'CC')\n",
        "\n",
        "# Predict behavior using the true model for comparison\n",
        "zTestPredIdeal, yTestPredIdeal, xTestPredIdeal = trueSys.predict(yTest)\n",
        "CCIdeal = evalPrediction(zTest, zTestPredIdeal, 'CC')\n",
        "\n",
        "print('Behavior decoding CC:\\n  PSID => {:.3g}, Ideal using true model => {:.3g}'.format(np.mean(CC), np.mean(CCIdeal)) )"
      ]
    },
    {
      "cell_type": "markdown",
      "metadata": {
        "id": "LfhHQ3hQKkeq"
      },
      "source": [
        "We can see that the PSID model with a 2D latent state is as accurate in explaining behavior as the full model that has a 4D latent state. This is because the other 2 latent state dimensions in the true model explain dynamics that are exclusive to neural activity (i.e. are not behaviorally relevant).\n",
        "\n",
        "Optionally, PSID can also learn other latent states beyond the behaviorally relevant ones. For this, we pass the arguments nx=4 and n1=2 to the PSID function:"
      ]
    },
    {
      "cell_type": "code",
      "metadata": {
        "colab": {
          "base_uri": "https://localhost:8080/"
        },
        "id": "a2chTfdSKW5d",
        "outputId": "2ad2af37-c80b-4a1b-dfba-9039a56ce8e0"
      },
      "source": [
        "## (Example 2) Optionally, PSID can additionally also learn the \n",
        "# behaviorally irrelevant latent states (with nx = 4, n1 = 2)\n",
        "idSys2 = psid.PSID(yTrain, zTrain, nx=4, n1=2, i=10)\n",
        "\n",
        "# In addition to ideal behavior decoding, this model will also have ideal neural self-prediction \n",
        "zTestPred2, yTestPred2, xTestPred2 = idSys2.predict(yTest)\n",
        "yCC2 = evalPrediction(yTest, yTestPred2, 'CC')\n",
        "yCCIdeal = evalPrediction(yTest, yTestPredIdeal, 'CC')\n",
        "print('Neural self-prediction CC:\\n  PSID => {:.3g}, Ideal using true model => {:.3g}'.format(np.mean(yCC2), np.mean(yCCIdeal)))"
      ],
      "execution_count": 7,
      "outputs": [
        {
          "output_type": "stream",
          "name": "stdout",
          "text": [
            "Neural self-prediction CC:\n  PSID => 0.852, Ideal using true model => 0.852\n"
          ]
        }
      ]
    },
    {
      "cell_type": "markdown",
      "metadata": {
        "id": "LDvqwXjRLKgj"
      },
      "source": [
        "We can see that in this case, the model learned by PSID (which now has a 4D latent state) is also as good as the true model in terms of explaining neural activity. \r\n",
        "\r\n",
        "\r\n",
        "Finally, we can plot the eigenvalues of the $A$ matrix in each of there learned models and compare them with the eigenvalues of the $A$ matrix in the true model to see the accurate learning of behaviorally relevant (and optionally the other) dynamics by PSID. "
      ]
    },
    {
      "cell_type": "code",
      "metadata": {
        "colab": {
          "base_uri": "https://localhost:8080/",
          "height": 281
        },
        "id": "rglPnehvLJ-2",
        "outputId": "57690508-4203-4361-bd15-25056eff6395"
      },
      "source": [
        "# #########################################\r\n",
        "# Plot the true and identified eigenvalues    \r\n",
        "\r\n",
        "# (Example 1) Eigenvalues when only learning behaviorally relevant states\r\n",
        "idEigs1 = np.linalg.eig(idSys1.A)[0]\r\n",
        "\r\n",
        "# (Example 2) Additional eigenvalues when also learning behaviorally irrelevant states\r\n",
        "# The identified model is already in form of Eq. 4, with behaviorally irrelevant states \r\n",
        "# coming as the last 2 dimensions of the states in the identified model\r\n",
        "idEigs2 = np.linalg.eig(idSys2.A[2:, 2:])[0]\r\n",
        "\r\n",
        "relevantDims = trueSys.zDims - 1 # Dimensions that drive both behavior and neural activity\r\n",
        "irrelevantDims = [x for x in np.arange(trueSys.state_dim, dtype=int) if x not in relevantDims] # Dimensions that only drive the neural activity\r\n",
        "trueEigsRelevant = np.linalg.eig(trueSys.A[np.ix_(relevantDims, relevantDims)])[0]\r\n",
        "trueEigsIrrelevant = np.linalg.eig(trueSys.A[np.ix_(irrelevantDims, irrelevantDims)])[0]\r\n",
        "nonEncodedEigs = np.linalg.eig(data['epsSys']['a'])[0] # Eigenvalues for states that only drive behavior\r\n",
        "\r\n",
        "fig = plt.figure(figsize=(8, 4))\r\n",
        "axs = fig.subplots(1, 2)\r\n",
        "axs[1].remove() \r\n",
        "ax = axs[0]\r\n",
        "ax.axis('equal')\r\n",
        "ax.add_patch( patches.Circle((0,0), radius=1, fill=False, color='black', alpha=0.2, ls='-') )\r\n",
        "ax.plot([-1,1,0,0,0], [0,0,0,-1,1], color='black', alpha=0.2, ls='-')\r\n",
        "ax.scatter(np.real(nonEncodedEigs), np.imag(nonEncodedEigs), marker='o', edgecolors='#0000ff', facecolors='none', label='Not encoded in neural signals')\r\n",
        "ax.scatter(np.real(trueEigsIrrelevant), np.imag(trueEigsIrrelevant), marker='o', edgecolors='#ff0000', facecolors='none', label='Behaviorally irrelevant')\r\n",
        "ax.scatter(np.real(trueEigsRelevant), np.imag(trueEigsRelevant), marker='o', edgecolors='#00ff00', facecolors='none', label='Behaviorally relevant')\r\n",
        "ax.scatter(np.real(idEigs1), np.imag(idEigs1), marker='x', facecolors='#00aa00', label='PSID Identified (stage 1)')\r\n",
        "ax.scatter(np.real(idEigs2), np.imag(idEigs2), marker='x', facecolors='#aa0000', label='(optional) PSID Identified (stage 2)')\r\n",
        "ax.set_title('True and identified eigevalues')\r\n",
        "ax.legend(bbox_to_anchor=(1.04,0.5), loc=\"center left\", borderaxespad=0)\r\n",
        "plt.show()"
      ],
      "execution_count": 8,
      "outputs": [
        {
          "output_type": "display_data",
          "data": {
            "text/plain": "<Figure size 576x288 with 1 Axes>",
            "image/svg+xml": "<?xml version=\"1.0\" encoding=\"utf-8\" standalone=\"no\"?>\n<!DOCTYPE svg PUBLIC \"-//W3C//DTD SVG 1.1//EN\"\n  \"http://www.w3.org/Graphics/SVG/1.1/DTD/svg11.dtd\">\n<svg height=\"263.63625pt\" version=\"1.1\" viewBox=\"0 0 465.992642 263.63625\" width=\"465.992642pt\" xmlns=\"http://www.w3.org/2000/svg\" xmlns:xlink=\"http://www.w3.org/1999/xlink\">\n <metadata>\n  <rdf:RDF xmlns:cc=\"http://creativecommons.org/ns#\" xmlns:dc=\"http://purl.org/dc/elements/1.1/\" xmlns:rdf=\"http://www.w3.org/1999/02/22-rdf-syntax-ns#\">\n   <cc:Work>\n    <dc:type rdf:resource=\"http://purl.org/dc/dcmitype/StillImage\"/>\n    <dc:date>2021-04-20T09:42:30.390475</dc:date>\n    <dc:format>image/svg+xml</dc:format>\n    <dc:creator>\n     <cc:Agent>\n      <dc:title>Matplotlib v3.4.1, https://matplotlib.org/</dc:title>\n     </cc:Agent>\n    </dc:creator>\n   </cc:Work>\n  </rdf:RDF>\n </metadata>\n <defs>\n  <style type=\"text/css\">*{stroke-linecap:butt;stroke-linejoin:round;}</style>\n </defs>\n <g id=\"figure_1\">\n  <g id=\"patch_1\">\n   <path d=\"M 0 263.63625 \nL 465.992642 263.63625 \nL 465.992642 0 \nL 0 0 \nz\n\" style=\"fill:none;\"/>\n  </g>\n  <g id=\"axes_1\">\n   <g id=\"patch_2\">\n    <path d=\"M 38.482813 239.758125 \nL 241.391903 239.758125 \nL 241.391903 22.318125 \nL 38.482813 22.318125 \nz\n\" style=\"fill:#ffffff;\"/>\n   </g>\n   <g id=\"PathCollection_1\">\n    <defs>\n     <path d=\"M 0 3 \nC 0.795609 3 1.55874 2.683901 2.12132 2.12132 \nC 2.683901 1.55874 3 0.795609 3 -0 \nC 3 -0.795609 2.683901 -1.55874 2.12132 -2.12132 \nC 1.55874 -2.683901 0.795609 -3 0 -3 \nC -0.795609 -3 -1.55874 -2.683901 -2.12132 -2.12132 \nC -2.683901 -1.55874 -3 -0.795609 -3 0 \nC -3 0.795609 -2.683901 1.55874 -2.12132 2.12132 \nC -1.55874 2.683901 -0.795609 3 0 3 \nz\n\" id=\"C0_0_9fb5d743e0\"/>\n    </defs>\n    <g clip-path=\"url(#p57e5e68e1f)\">\n     <use style=\"fill:none;stroke:#0000ff;\" x=\"77.980779\" xlink:href=\"#C0_0_9fb5d743e0\" y=\"69.081546\"/>\n    </g>\n    <g clip-path=\"url(#p57e5e68e1f)\">\n     <use style=\"fill:none;stroke:#0000ff;\" x=\"77.980779\" xlink:href=\"#C0_0_9fb5d743e0\" y=\"192.994704\"/>\n    </g>\n   </g>\n   <g id=\"PathCollection_2\">\n    <defs>\n     <path d=\"M 0 3 \nC 0.795609 3 1.55874 2.683901 2.12132 2.12132 \nC 2.683901 1.55874 3 0.795609 3 -0 \nC 3 -0.795609 2.683901 -1.55874 2.12132 -2.12132 \nC 1.55874 -2.683901 0.795609 -3 0 -3 \nC -0.795609 -3 -1.55874 -2.683901 -2.12132 -2.12132 \nC -2.683901 -1.55874 -3 -0.795609 -3 0 \nC -3 0.795609 -2.683901 1.55874 -2.12132 2.12132 \nC -1.55874 2.683901 -0.795609 3 0 3 \nz\n\" id=\"C1_0_19553db0f2\"/>\n    </defs>\n    <g clip-path=\"url(#p57e5e68e1f)\">\n     <use style=\"fill:none;stroke:#ff0000;\" x=\"139.937358\" xlink:href=\"#C1_0_19553db0f2\" y=\"44.340604\"/>\n    </g>\n    <g clip-path=\"url(#p57e5e68e1f)\">\n     <use style=\"fill:none;stroke:#ff0000;\" x=\"139.937358\" xlink:href=\"#C1_0_19553db0f2\" y=\"217.735646\"/>\n    </g>\n   </g>\n   <g id=\"PathCollection_3\">\n    <defs>\n     <path d=\"M 0 3 \nC 0.795609 3 1.55874 2.683901 2.12132 2.12132 \nC 2.683901 1.55874 3 0.795609 3 -0 \nC 3 -0.795609 2.683901 -1.55874 2.12132 -2.12132 \nC 1.55874 -2.683901 0.795609 -3 0 -3 \nC -0.795609 -3 -1.55874 -2.683901 -2.12132 -2.12132 \nC -2.683901 -1.55874 -3 -0.795609 -3 0 \nC -3 0.795609 -2.683901 1.55874 -2.12132 2.12132 \nC -1.55874 2.683901 -0.795609 3 0 3 \nz\n\" id=\"C2_0_8b2556ca11\"/>\n    </defs>\n    <g clip-path=\"url(#p57e5e68e1f)\">\n     <use style=\"fill:none;stroke:#00ff00;\" x=\"222.344402\" xlink:href=\"#C2_0_8b2556ca11\" y=\"108.957224\"/>\n    </g>\n    <g clip-path=\"url(#p57e5e68e1f)\">\n     <use style=\"fill:none;stroke:#00ff00;\" x=\"222.344402\" xlink:href=\"#C2_0_8b2556ca11\" y=\"153.119026\"/>\n    </g>\n   </g>\n   <g id=\"PathCollection_4\">\n    <defs>\n     <path d=\"M -3 3 \nL 3 -3 \nM -3 -3 \nL 3 3 \n\" id=\"m314bf69f67\" style=\"stroke:#00aa00;stroke-width:1.5;\"/>\n    </defs>\n    <g clip-path=\"url(#p57e5e68e1f)\">\n     <use style=\"fill:#00aa00;stroke:#00aa00;stroke-width:1.5;\" x=\"222.41776\" xlink:href=\"#m314bf69f67\" y=\"109.360739\"/>\n     <use style=\"fill:#00aa00;stroke:#00aa00;stroke-width:1.5;\" x=\"222.41776\" xlink:href=\"#m314bf69f67\" y=\"152.715511\"/>\n    </g>\n   </g>\n   <g id=\"PathCollection_5\">\n    <defs>\n     <path d=\"M -3 3 \nL 3 -3 \nM -3 -3 \nL 3 3 \n\" id=\"ma15d119fd0\" style=\"stroke:#aa0000;stroke-width:1.5;\"/>\n    </defs>\n    <g clip-path=\"url(#p57e5e68e1f)\">\n     <use style=\"fill:#aa0000;stroke:#aa0000;stroke-width:1.5;\" x=\"140.160397\" xlink:href=\"#ma15d119fd0\" y=\"44.61316\"/>\n     <use style=\"fill:#aa0000;stroke:#aa0000;stroke-width:1.5;\" x=\"140.160397\" xlink:href=\"#ma15d119fd0\" y=\"217.46309\"/>\n    </g>\n   </g>\n   <g id=\"patch_3\">\n    <path clip-path=\"url(#p57e5e68e1f)\" d=\"M 139.937358 223.26953 \nC 164.397412 223.26953 187.858939 213.551447 205.15481 196.255577 \nC 222.45068 178.959706 232.168763 155.49818 232.168763 131.038125 \nC 232.168763 106.57807 222.45068 83.116544 205.15481 65.820673 \nC 187.858939 48.524803 164.397412 38.80672 139.937358 38.80672 \nC 115.477303 38.80672 92.015776 48.524803 74.719906 65.820673 \nC 57.424036 83.116544 47.705953 106.57807 47.705953 131.038125 \nC 47.705953 155.49818 57.424036 178.959706 74.719906 196.255577 \nC 92.015776 213.551447 115.477303 223.26953 139.937358 223.26953 \nz\n\" style=\"fill:none;opacity:0.2;stroke:#000000;stroke-linejoin:miter;\"/>\n   </g>\n   <g id=\"matplotlib.axis_1\">\n    <g id=\"xtick_1\">\n     <g id=\"line2d_1\">\n      <defs>\n       <path d=\"M 0 0 \nL 0 3.5 \n\" id=\"m197faea3f8\" style=\"stroke:#000000;stroke-width:0.8;\"/>\n      </defs>\n      <g>\n       <use style=\"stroke:#000000;stroke-width:0.8;\" x=\"47.705953\" xlink:href=\"#m197faea3f8\" y=\"239.758125\"/>\n      </g>\n     </g>\n     <g id=\"text_1\">\n      <!-- −1.0 -->\n      <g transform=\"translate(35.564547 254.356563)scale(0.1 -0.1)\">\n       <defs>\n        <path d=\"M 678 2272 \nL 4684 2272 \nL 4684 1741 \nL 678 1741 \nL 678 2272 \nz\n\" id=\"DejaVuSans-2212\" transform=\"scale(0.015625)\"/>\n        <path d=\"M 794 531 \nL 1825 531 \nL 1825 4091 \nL 703 3866 \nL 703 4441 \nL 1819 4666 \nL 2450 4666 \nL 2450 531 \nL 3481 531 \nL 3481 0 \nL 794 0 \nL 794 531 \nz\n\" id=\"DejaVuSans-31\" transform=\"scale(0.015625)\"/>\n        <path d=\"M 684 794 \nL 1344 794 \nL 1344 0 \nL 684 0 \nL 684 794 \nz\n\" id=\"DejaVuSans-2e\" transform=\"scale(0.015625)\"/>\n        <path d=\"M 2034 4250 \nQ 1547 4250 1301 3770 \nQ 1056 3291 1056 2328 \nQ 1056 1369 1301 889 \nQ 1547 409 2034 409 \nQ 2525 409 2770 889 \nQ 3016 1369 3016 2328 \nQ 3016 3291 2770 3770 \nQ 2525 4250 2034 4250 \nz\nM 2034 4750 \nQ 2819 4750 3233 4129 \nQ 3647 3509 3647 2328 \nQ 3647 1150 3233 529 \nQ 2819 -91 2034 -91 \nQ 1250 -91 836 529 \nQ 422 1150 422 2328 \nQ 422 3509 836 4129 \nQ 1250 4750 2034 4750 \nz\n\" id=\"DejaVuSans-30\" transform=\"scale(0.015625)\"/>\n       </defs>\n       <use xlink:href=\"#DejaVuSans-2212\"/>\n       <use x=\"83.789062\" xlink:href=\"#DejaVuSans-31\"/>\n       <use x=\"147.412109\" xlink:href=\"#DejaVuSans-2e\"/>\n       <use x=\"179.199219\" xlink:href=\"#DejaVuSans-30\"/>\n      </g>\n     </g>\n    </g>\n    <g id=\"xtick_2\">\n     <g id=\"line2d_2\">\n      <g>\n       <use style=\"stroke:#000000;stroke-width:0.8;\" x=\"93.821655\" xlink:href=\"#m197faea3f8\" y=\"239.758125\"/>\n      </g>\n     </g>\n     <g id=\"text_2\">\n      <!-- −0.5 -->\n      <g transform=\"translate(81.680249 254.356563)scale(0.1 -0.1)\">\n       <defs>\n        <path d=\"M 691 4666 \nL 3169 4666 \nL 3169 4134 \nL 1269 4134 \nL 1269 2991 \nQ 1406 3038 1543 3061 \nQ 1681 3084 1819 3084 \nQ 2600 3084 3056 2656 \nQ 3513 2228 3513 1497 \nQ 3513 744 3044 326 \nQ 2575 -91 1722 -91 \nQ 1428 -91 1123 -41 \nQ 819 9 494 109 \nL 494 744 \nQ 775 591 1075 516 \nQ 1375 441 1709 441 \nQ 2250 441 2565 725 \nQ 2881 1009 2881 1497 \nQ 2881 1984 2565 2268 \nQ 2250 2553 1709 2553 \nQ 1456 2553 1204 2497 \nQ 953 2441 691 2322 \nL 691 4666 \nz\n\" id=\"DejaVuSans-35\" transform=\"scale(0.015625)\"/>\n       </defs>\n       <use xlink:href=\"#DejaVuSans-2212\"/>\n       <use x=\"83.789062\" xlink:href=\"#DejaVuSans-30\"/>\n       <use x=\"147.412109\" xlink:href=\"#DejaVuSans-2e\"/>\n       <use x=\"179.199219\" xlink:href=\"#DejaVuSans-35\"/>\n      </g>\n     </g>\n    </g>\n    <g id=\"xtick_3\">\n     <g id=\"line2d_3\">\n      <g>\n       <use style=\"stroke:#000000;stroke-width:0.8;\" x=\"139.937358\" xlink:href=\"#m197faea3f8\" y=\"239.758125\"/>\n      </g>\n     </g>\n     <g id=\"text_3\">\n      <!-- 0.0 -->\n      <g transform=\"translate(131.985795 254.356563)scale(0.1 -0.1)\">\n       <use xlink:href=\"#DejaVuSans-30\"/>\n       <use x=\"63.623047\" xlink:href=\"#DejaVuSans-2e\"/>\n       <use x=\"95.410156\" xlink:href=\"#DejaVuSans-30\"/>\n      </g>\n     </g>\n    </g>\n    <g id=\"xtick_4\">\n     <g id=\"line2d_4\">\n      <g>\n       <use style=\"stroke:#000000;stroke-width:0.8;\" x=\"186.05306\" xlink:href=\"#m197faea3f8\" y=\"239.758125\"/>\n      </g>\n     </g>\n     <g id=\"text_4\">\n      <!-- 0.5 -->\n      <g transform=\"translate(178.101498 254.356563)scale(0.1 -0.1)\">\n       <use xlink:href=\"#DejaVuSans-30\"/>\n       <use x=\"63.623047\" xlink:href=\"#DejaVuSans-2e\"/>\n       <use x=\"95.410156\" xlink:href=\"#DejaVuSans-35\"/>\n      </g>\n     </g>\n    </g>\n    <g id=\"xtick_5\">\n     <g id=\"line2d_5\">\n      <g>\n       <use style=\"stroke:#000000;stroke-width:0.8;\" x=\"232.168763\" xlink:href=\"#m197faea3f8\" y=\"239.758125\"/>\n      </g>\n     </g>\n     <g id=\"text_5\">\n      <!-- 1.0 -->\n      <g transform=\"translate(224.2172 254.356563)scale(0.1 -0.1)\">\n       <use xlink:href=\"#DejaVuSans-31\"/>\n       <use x=\"63.623047\" xlink:href=\"#DejaVuSans-2e\"/>\n       <use x=\"95.410156\" xlink:href=\"#DejaVuSans-30\"/>\n      </g>\n     </g>\n    </g>\n   </g>\n   <g id=\"matplotlib.axis_2\">\n    <g id=\"ytick_1\">\n     <g id=\"line2d_6\">\n      <defs>\n       <path d=\"M 0 0 \nL -3.5 0 \n\" id=\"m1774bac836\" style=\"stroke:#000000;stroke-width:0.8;\"/>\n      </defs>\n      <g>\n       <use style=\"stroke:#000000;stroke-width:0.8;\" x=\"38.482813\" xlink:href=\"#m1774bac836\" y=\"223.26953\"/>\n      </g>\n     </g>\n     <g id=\"text_6\">\n      <!-- −1.0 -->\n      <g transform=\"translate(7.2 227.068749)scale(0.1 -0.1)\">\n       <use xlink:href=\"#DejaVuSans-2212\"/>\n       <use x=\"83.789062\" xlink:href=\"#DejaVuSans-31\"/>\n       <use x=\"147.412109\" xlink:href=\"#DejaVuSans-2e\"/>\n       <use x=\"179.199219\" xlink:href=\"#DejaVuSans-30\"/>\n      </g>\n     </g>\n    </g>\n    <g id=\"ytick_2\">\n     <g id=\"line2d_7\">\n      <g>\n       <use style=\"stroke:#000000;stroke-width:0.8;\" x=\"38.482813\" xlink:href=\"#m1774bac836\" y=\"177.153827\"/>\n      </g>\n     </g>\n     <g id=\"text_7\">\n      <!-- −0.5 -->\n      <g transform=\"translate(7.2 180.953046)scale(0.1 -0.1)\">\n       <use xlink:href=\"#DejaVuSans-2212\"/>\n       <use x=\"83.789062\" xlink:href=\"#DejaVuSans-30\"/>\n       <use x=\"147.412109\" xlink:href=\"#DejaVuSans-2e\"/>\n       <use x=\"179.199219\" xlink:href=\"#DejaVuSans-35\"/>\n      </g>\n     </g>\n    </g>\n    <g id=\"ytick_3\">\n     <g id=\"line2d_8\">\n      <g>\n       <use style=\"stroke:#000000;stroke-width:0.8;\" x=\"38.482813\" xlink:href=\"#m1774bac836\" y=\"131.038125\"/>\n      </g>\n     </g>\n     <g id=\"text_8\">\n      <!-- 0.0 -->\n      <g transform=\"translate(15.579688 134.837344)scale(0.1 -0.1)\">\n       <use xlink:href=\"#DejaVuSans-30\"/>\n       <use x=\"63.623047\" xlink:href=\"#DejaVuSans-2e\"/>\n       <use x=\"95.410156\" xlink:href=\"#DejaVuSans-30\"/>\n      </g>\n     </g>\n    </g>\n    <g id=\"ytick_4\">\n     <g id=\"line2d_9\">\n      <g>\n       <use style=\"stroke:#000000;stroke-width:0.8;\" x=\"38.482813\" xlink:href=\"#m1774bac836\" y=\"84.922423\"/>\n      </g>\n     </g>\n     <g id=\"text_9\">\n      <!-- 0.5 -->\n      <g transform=\"translate(15.579688 88.721641)scale(0.1 -0.1)\">\n       <use xlink:href=\"#DejaVuSans-30\"/>\n       <use x=\"63.623047\" xlink:href=\"#DejaVuSans-2e\"/>\n       <use x=\"95.410156\" xlink:href=\"#DejaVuSans-35\"/>\n      </g>\n     </g>\n    </g>\n    <g id=\"ytick_5\">\n     <g id=\"line2d_10\">\n      <g>\n       <use style=\"stroke:#000000;stroke-width:0.8;\" x=\"38.482813\" xlink:href=\"#m1774bac836\" y=\"38.80672\"/>\n      </g>\n     </g>\n     <g id=\"text_10\">\n      <!-- 1.0 -->\n      <g transform=\"translate(15.579688 42.605939)scale(0.1 -0.1)\">\n       <use xlink:href=\"#DejaVuSans-31\"/>\n       <use x=\"63.623047\" xlink:href=\"#DejaVuSans-2e\"/>\n       <use x=\"95.410156\" xlink:href=\"#DejaVuSans-30\"/>\n      </g>\n     </g>\n    </g>\n   </g>\n   <g id=\"line2d_11\">\n    <path clip-path=\"url(#p57e5e68e1f)\" d=\"M 47.705953 131.038125 \nL 232.168763 131.038125 \nL 139.937358 131.038125 \nL 139.937358 223.26953 \nL 139.937358 38.80672 \n\" style=\"fill:none;stroke:#000000;stroke-linecap:square;stroke-opacity:0.2;stroke-width:1.5;\"/>\n   </g>\n   <g id=\"patch_4\">\n    <path d=\"M 38.482813 239.758125 \nL 38.482813 22.318125 \n\" style=\"fill:none;stroke:#000000;stroke-linecap:square;stroke-linejoin:miter;stroke-width:0.8;\"/>\n   </g>\n   <g id=\"patch_5\">\n    <path d=\"M 241.391903 239.758125 \nL 241.391903 22.318125 \n\" style=\"fill:none;stroke:#000000;stroke-linecap:square;stroke-linejoin:miter;stroke-width:0.8;\"/>\n   </g>\n   <g id=\"patch_6\">\n    <path d=\"M 38.482813 239.758125 \nL 241.391903 239.758125 \n\" style=\"fill:none;stroke:#000000;stroke-linecap:square;stroke-linejoin:miter;stroke-width:0.8;\"/>\n   </g>\n   <g id=\"patch_7\">\n    <path d=\"M 38.482813 22.318125 \nL 241.391903 22.318125 \n\" style=\"fill:none;stroke:#000000;stroke-linecap:square;stroke-linejoin:miter;stroke-width:0.8;\"/>\n   </g>\n   <g id=\"text_11\">\n    <!-- True and identified eigevalues -->\n    <g transform=\"translate(49.543608 16.318125)scale(0.12 -0.12)\">\n     <defs>\n      <path d=\"M -19 4666 \nL 3928 4666 \nL 3928 4134 \nL 2272 4134 \nL 2272 0 \nL 1638 0 \nL 1638 4134 \nL -19 4134 \nL -19 4666 \nz\n\" id=\"DejaVuSans-54\" transform=\"scale(0.015625)\"/>\n      <path d=\"M 2631 2963 \nQ 2534 3019 2420 3045 \nQ 2306 3072 2169 3072 \nQ 1681 3072 1420 2755 \nQ 1159 2438 1159 1844 \nL 1159 0 \nL 581 0 \nL 581 3500 \nL 1159 3500 \nL 1159 2956 \nQ 1341 3275 1631 3429 \nQ 1922 3584 2338 3584 \nQ 2397 3584 2469 3576 \nQ 2541 3569 2628 3553 \nL 2631 2963 \nz\n\" id=\"DejaVuSans-72\" transform=\"scale(0.015625)\"/>\n      <path d=\"M 544 1381 \nL 544 3500 \nL 1119 3500 \nL 1119 1403 \nQ 1119 906 1312 657 \nQ 1506 409 1894 409 \nQ 2359 409 2629 706 \nQ 2900 1003 2900 1516 \nL 2900 3500 \nL 3475 3500 \nL 3475 0 \nL 2900 0 \nL 2900 538 \nQ 2691 219 2414 64 \nQ 2138 -91 1772 -91 \nQ 1169 -91 856 284 \nQ 544 659 544 1381 \nz\nM 1991 3584 \nL 1991 3584 \nz\n\" id=\"DejaVuSans-75\" transform=\"scale(0.015625)\"/>\n      <path d=\"M 3597 1894 \nL 3597 1613 \nL 953 1613 \nQ 991 1019 1311 708 \nQ 1631 397 2203 397 \nQ 2534 397 2845 478 \nQ 3156 559 3463 722 \nL 3463 178 \nQ 3153 47 2828 -22 \nQ 2503 -91 2169 -91 \nQ 1331 -91 842 396 \nQ 353 884 353 1716 \nQ 353 2575 817 3079 \nQ 1281 3584 2069 3584 \nQ 2775 3584 3186 3129 \nQ 3597 2675 3597 1894 \nz\nM 3022 2063 \nQ 3016 2534 2758 2815 \nQ 2500 3097 2075 3097 \nQ 1594 3097 1305 2825 \nQ 1016 2553 972 2059 \nL 3022 2063 \nz\n\" id=\"DejaVuSans-65\" transform=\"scale(0.015625)\"/>\n      <path id=\"DejaVuSans-20\" transform=\"scale(0.015625)\"/>\n      <path d=\"M 2194 1759 \nQ 1497 1759 1228 1600 \nQ 959 1441 959 1056 \nQ 959 750 1161 570 \nQ 1363 391 1709 391 \nQ 2188 391 2477 730 \nQ 2766 1069 2766 1631 \nL 2766 1759 \nL 2194 1759 \nz\nM 3341 1997 \nL 3341 0 \nL 2766 0 \nL 2766 531 \nQ 2569 213 2275 61 \nQ 1981 -91 1556 -91 \nQ 1019 -91 701 211 \nQ 384 513 384 1019 \nQ 384 1609 779 1909 \nQ 1175 2209 1959 2209 \nL 2766 2209 \nL 2766 2266 \nQ 2766 2663 2505 2880 \nQ 2244 3097 1772 3097 \nQ 1472 3097 1187 3025 \nQ 903 2953 641 2809 \nL 641 3341 \nQ 956 3463 1253 3523 \nQ 1550 3584 1831 3584 \nQ 2591 3584 2966 3190 \nQ 3341 2797 3341 1997 \nz\n\" id=\"DejaVuSans-61\" transform=\"scale(0.015625)\"/>\n      <path d=\"M 3513 2113 \nL 3513 0 \nL 2938 0 \nL 2938 2094 \nQ 2938 2591 2744 2837 \nQ 2550 3084 2163 3084 \nQ 1697 3084 1428 2787 \nQ 1159 2491 1159 1978 \nL 1159 0 \nL 581 0 \nL 581 3500 \nL 1159 3500 \nL 1159 2956 \nQ 1366 3272 1645 3428 \nQ 1925 3584 2291 3584 \nQ 2894 3584 3203 3211 \nQ 3513 2838 3513 2113 \nz\n\" id=\"DejaVuSans-6e\" transform=\"scale(0.015625)\"/>\n      <path d=\"M 2906 2969 \nL 2906 4863 \nL 3481 4863 \nL 3481 0 \nL 2906 0 \nL 2906 525 \nQ 2725 213 2448 61 \nQ 2172 -91 1784 -91 \nQ 1150 -91 751 415 \nQ 353 922 353 1747 \nQ 353 2572 751 3078 \nQ 1150 3584 1784 3584 \nQ 2172 3584 2448 3432 \nQ 2725 3281 2906 2969 \nz\nM 947 1747 \nQ 947 1113 1208 752 \nQ 1469 391 1925 391 \nQ 2381 391 2643 752 \nQ 2906 1113 2906 1747 \nQ 2906 2381 2643 2742 \nQ 2381 3103 1925 3103 \nQ 1469 3103 1208 2742 \nQ 947 2381 947 1747 \nz\n\" id=\"DejaVuSans-64\" transform=\"scale(0.015625)\"/>\n      <path d=\"M 603 3500 \nL 1178 3500 \nL 1178 0 \nL 603 0 \nL 603 3500 \nz\nM 603 4863 \nL 1178 4863 \nL 1178 4134 \nL 603 4134 \nL 603 4863 \nz\n\" id=\"DejaVuSans-69\" transform=\"scale(0.015625)\"/>\n      <path d=\"M 1172 4494 \nL 1172 3500 \nL 2356 3500 \nL 2356 3053 \nL 1172 3053 \nL 1172 1153 \nQ 1172 725 1289 603 \nQ 1406 481 1766 481 \nL 2356 481 \nL 2356 0 \nL 1766 0 \nQ 1100 0 847 248 \nQ 594 497 594 1153 \nL 594 3053 \nL 172 3053 \nL 172 3500 \nL 594 3500 \nL 594 4494 \nL 1172 4494 \nz\n\" id=\"DejaVuSans-74\" transform=\"scale(0.015625)\"/>\n      <path d=\"M 2375 4863 \nL 2375 4384 \nL 1825 4384 \nQ 1516 4384 1395 4259 \nQ 1275 4134 1275 3809 \nL 1275 3500 \nL 2222 3500 \nL 2222 3053 \nL 1275 3053 \nL 1275 0 \nL 697 0 \nL 697 3053 \nL 147 3053 \nL 147 3500 \nL 697 3500 \nL 697 3744 \nQ 697 4328 969 4595 \nQ 1241 4863 1831 4863 \nL 2375 4863 \nz\n\" id=\"DejaVuSans-66\" transform=\"scale(0.015625)\"/>\n      <path d=\"M 2906 1791 \nQ 2906 2416 2648 2759 \nQ 2391 3103 1925 3103 \nQ 1463 3103 1205 2759 \nQ 947 2416 947 1791 \nQ 947 1169 1205 825 \nQ 1463 481 1925 481 \nQ 2391 481 2648 825 \nQ 2906 1169 2906 1791 \nz\nM 3481 434 \nQ 3481 -459 3084 -895 \nQ 2688 -1331 1869 -1331 \nQ 1566 -1331 1297 -1286 \nQ 1028 -1241 775 -1147 \nL 775 -588 \nQ 1028 -725 1275 -790 \nQ 1522 -856 1778 -856 \nQ 2344 -856 2625 -561 \nQ 2906 -266 2906 331 \nL 2906 616 \nQ 2728 306 2450 153 \nQ 2172 0 1784 0 \nQ 1141 0 747 490 \nQ 353 981 353 1791 \nQ 353 2603 747 3093 \nQ 1141 3584 1784 3584 \nQ 2172 3584 2450 3431 \nQ 2728 3278 2906 2969 \nL 2906 3500 \nL 3481 3500 \nL 3481 434 \nz\n\" id=\"DejaVuSans-67\" transform=\"scale(0.015625)\"/>\n      <path d=\"M 191 3500 \nL 800 3500 \nL 1894 563 \nL 2988 3500 \nL 3597 3500 \nL 2284 0 \nL 1503 0 \nL 191 3500 \nz\n\" id=\"DejaVuSans-76\" transform=\"scale(0.015625)\"/>\n      <path d=\"M 603 4863 \nL 1178 4863 \nL 1178 0 \nL 603 0 \nL 603 4863 \nz\n\" id=\"DejaVuSans-6c\" transform=\"scale(0.015625)\"/>\n      <path d=\"M 2834 3397 \nL 2834 2853 \nQ 2591 2978 2328 3040 \nQ 2066 3103 1784 3103 \nQ 1356 3103 1142 2972 \nQ 928 2841 928 2578 \nQ 928 2378 1081 2264 \nQ 1234 2150 1697 2047 \nL 1894 2003 \nQ 2506 1872 2764 1633 \nQ 3022 1394 3022 966 \nQ 3022 478 2636 193 \nQ 2250 -91 1575 -91 \nQ 1294 -91 989 -36 \nQ 684 19 347 128 \nL 347 722 \nQ 666 556 975 473 \nQ 1284 391 1588 391 \nQ 1994 391 2212 530 \nQ 2431 669 2431 922 \nQ 2431 1156 2273 1281 \nQ 2116 1406 1581 1522 \nL 1381 1569 \nQ 847 1681 609 1914 \nQ 372 2147 372 2553 \nQ 372 3047 722 3315 \nQ 1072 3584 1716 3584 \nQ 2034 3584 2315 3537 \nQ 2597 3491 2834 3397 \nz\n\" id=\"DejaVuSans-73\" transform=\"scale(0.015625)\"/>\n     </defs>\n     <use xlink:href=\"#DejaVuSans-54\"/>\n     <use x=\"46.333984\" xlink:href=\"#DejaVuSans-72\"/>\n     <use x=\"87.447266\" xlink:href=\"#DejaVuSans-75\"/>\n     <use x=\"150.826172\" xlink:href=\"#DejaVuSans-65\"/>\n     <use x=\"212.349609\" xlink:href=\"#DejaVuSans-20\"/>\n     <use x=\"244.136719\" xlink:href=\"#DejaVuSans-61\"/>\n     <use x=\"305.416016\" xlink:href=\"#DejaVuSans-6e\"/>\n     <use x=\"368.794922\" xlink:href=\"#DejaVuSans-64\"/>\n     <use x=\"432.271484\" xlink:href=\"#DejaVuSans-20\"/>\n     <use x=\"464.058594\" xlink:href=\"#DejaVuSans-69\"/>\n     <use x=\"491.841797\" xlink:href=\"#DejaVuSans-64\"/>\n     <use x=\"555.318359\" xlink:href=\"#DejaVuSans-65\"/>\n     <use x=\"616.841797\" xlink:href=\"#DejaVuSans-6e\"/>\n     <use x=\"680.220703\" xlink:href=\"#DejaVuSans-74\"/>\n     <use x=\"719.429688\" xlink:href=\"#DejaVuSans-69\"/>\n     <use x=\"747.212891\" xlink:href=\"#DejaVuSans-66\"/>\n     <use x=\"782.417969\" xlink:href=\"#DejaVuSans-69\"/>\n     <use x=\"810.201172\" xlink:href=\"#DejaVuSans-65\"/>\n     <use x=\"871.724609\" xlink:href=\"#DejaVuSans-64\"/>\n     <use x=\"935.201172\" xlink:href=\"#DejaVuSans-20\"/>\n     <use x=\"966.988281\" xlink:href=\"#DejaVuSans-65\"/>\n     <use x=\"1028.511719\" xlink:href=\"#DejaVuSans-69\"/>\n     <use x=\"1056.294922\" xlink:href=\"#DejaVuSans-67\"/>\n     <use x=\"1119.771484\" xlink:href=\"#DejaVuSans-65\"/>\n     <use x=\"1181.294922\" xlink:href=\"#DejaVuSans-76\"/>\n     <use x=\"1240.474609\" xlink:href=\"#DejaVuSans-61\"/>\n     <use x=\"1301.753906\" xlink:href=\"#DejaVuSans-6c\"/>\n     <use x=\"1329.537109\" xlink:href=\"#DejaVuSans-75\"/>\n     <use x=\"1392.916016\" xlink:href=\"#DejaVuSans-65\"/>\n     <use x=\"1454.439453\" xlink:href=\"#DejaVuSans-73\"/>\n    </g>\n   </g>\n   <g id=\"legend_1\">\n    <g id=\"patch_8\">\n     <path d=\"M 251.508267 169.233438 \nL 456.792642 169.233438 \nQ 458.792642 169.233438 458.792642 167.233438 \nL 458.792642 94.842813 \nQ 458.792642 92.842813 456.792642 92.842813 \nL 251.508267 92.842813 \nQ 249.508267 92.842813 249.508267 94.842813 \nL 249.508267 167.233438 \nQ 249.508267 169.233438 251.508267 169.233438 \nz\n\" style=\"fill:#ffffff;opacity:0.8;stroke:#cccccc;stroke-linejoin:miter;\"/>\n    </g>\n    <g id=\"PathCollection_6\">\n     <path d=\"M 263.508267 104.81625 \nC 264.303876 104.81625 265.067007 104.500151 265.629587 103.93757 \nC 266.192168 103.37499 266.508267 102.611859 266.508267 101.81625 \nC 266.508267 101.020641 266.192168 100.25751 265.629587 99.69493 \nC 265.067007 99.132349 264.303876 98.81625 263.508267 98.81625 \nC 262.712658 98.81625 261.949527 99.132349 261.386947 99.69493 \nC 260.824366 100.25751 260.508267 101.020641 260.508267 101.81625 \nC 260.508267 102.611859 260.824366 103.37499 261.386947 103.93757 \nC 261.949527 104.500151 262.712658 104.81625 263.508267 104.81625 \nz\n\" style=\"fill:none;stroke:#0000ff;\"/>\n    </g>\n    <g id=\"text_12\">\n     <!-- Not encoded in neural signals -->\n     <g transform=\"translate(281.508267 104.44125)scale(0.1 -0.1)\">\n      <defs>\n       <path d=\"M 628 4666 \nL 1478 4666 \nL 3547 763 \nL 3547 4666 \nL 4159 4666 \nL 4159 0 \nL 3309 0 \nL 1241 3903 \nL 1241 0 \nL 628 0 \nL 628 4666 \nz\n\" id=\"DejaVuSans-4e\" transform=\"scale(0.015625)\"/>\n       <path d=\"M 1959 3097 \nQ 1497 3097 1228 2736 \nQ 959 2375 959 1747 \nQ 959 1119 1226 758 \nQ 1494 397 1959 397 \nQ 2419 397 2687 759 \nQ 2956 1122 2956 1747 \nQ 2956 2369 2687 2733 \nQ 2419 3097 1959 3097 \nz\nM 1959 3584 \nQ 2709 3584 3137 3096 \nQ 3566 2609 3566 1747 \nQ 3566 888 3137 398 \nQ 2709 -91 1959 -91 \nQ 1206 -91 779 398 \nQ 353 888 353 1747 \nQ 353 2609 779 3096 \nQ 1206 3584 1959 3584 \nz\n\" id=\"DejaVuSans-6f\" transform=\"scale(0.015625)\"/>\n       <path d=\"M 3122 3366 \nL 3122 2828 \nQ 2878 2963 2633 3030 \nQ 2388 3097 2138 3097 \nQ 1578 3097 1268 2742 \nQ 959 2388 959 1747 \nQ 959 1106 1268 751 \nQ 1578 397 2138 397 \nQ 2388 397 2633 464 \nQ 2878 531 3122 666 \nL 3122 134 \nQ 2881 22 2623 -34 \nQ 2366 -91 2075 -91 \nQ 1284 -91 818 406 \nQ 353 903 353 1747 \nQ 353 2603 823 3093 \nQ 1294 3584 2113 3584 \nQ 2378 3584 2631 3529 \nQ 2884 3475 3122 3366 \nz\n\" id=\"DejaVuSans-63\" transform=\"scale(0.015625)\"/>\n      </defs>\n      <use xlink:href=\"#DejaVuSans-4e\"/>\n      <use x=\"74.804688\" xlink:href=\"#DejaVuSans-6f\"/>\n      <use x=\"135.986328\" xlink:href=\"#DejaVuSans-74\"/>\n      <use x=\"175.195312\" xlink:href=\"#DejaVuSans-20\"/>\n      <use x=\"206.982422\" xlink:href=\"#DejaVuSans-65\"/>\n      <use x=\"268.505859\" xlink:href=\"#DejaVuSans-6e\"/>\n      <use x=\"331.884766\" xlink:href=\"#DejaVuSans-63\"/>\n      <use x=\"386.865234\" xlink:href=\"#DejaVuSans-6f\"/>\n      <use x=\"448.046875\" xlink:href=\"#DejaVuSans-64\"/>\n      <use x=\"511.523438\" xlink:href=\"#DejaVuSans-65\"/>\n      <use x=\"573.046875\" xlink:href=\"#DejaVuSans-64\"/>\n      <use x=\"636.523438\" xlink:href=\"#DejaVuSans-20\"/>\n      <use x=\"668.310547\" xlink:href=\"#DejaVuSans-69\"/>\n      <use x=\"696.09375\" xlink:href=\"#DejaVuSans-6e\"/>\n      <use x=\"759.472656\" xlink:href=\"#DejaVuSans-20\"/>\n      <use x=\"791.259766\" xlink:href=\"#DejaVuSans-6e\"/>\n      <use x=\"854.638672\" xlink:href=\"#DejaVuSans-65\"/>\n      <use x=\"916.162109\" xlink:href=\"#DejaVuSans-75\"/>\n      <use x=\"979.541016\" xlink:href=\"#DejaVuSans-72\"/>\n      <use x=\"1020.654297\" xlink:href=\"#DejaVuSans-61\"/>\n      <use x=\"1081.933594\" xlink:href=\"#DejaVuSans-6c\"/>\n      <use x=\"1109.716797\" xlink:href=\"#DejaVuSans-20\"/>\n      <use x=\"1141.503906\" xlink:href=\"#DejaVuSans-73\"/>\n      <use x=\"1193.603516\" xlink:href=\"#DejaVuSans-69\"/>\n      <use x=\"1221.386719\" xlink:href=\"#DejaVuSans-67\"/>\n      <use x=\"1284.863281\" xlink:href=\"#DejaVuSans-6e\"/>\n      <use x=\"1348.242188\" xlink:href=\"#DejaVuSans-61\"/>\n      <use x=\"1409.521484\" xlink:href=\"#DejaVuSans-6c\"/>\n      <use x=\"1437.304688\" xlink:href=\"#DejaVuSans-73\"/>\n     </g>\n    </g>\n    <g id=\"PathCollection_7\">\n     <path d=\"M 263.508267 119.494375 \nC 264.303876 119.494375 265.067007 119.178276 265.629587 118.615695 \nC 266.192168 118.053115 266.508267 117.289984 266.508267 116.494375 \nC 266.508267 115.698766 266.192168 114.935635 265.629587 114.373055 \nC 265.067007 113.810474 264.303876 113.494375 263.508267 113.494375 \nC 262.712658 113.494375 261.949527 113.810474 261.386947 114.373055 \nC 260.824366 114.935635 260.508267 115.698766 260.508267 116.494375 \nC 260.508267 117.289984 260.824366 118.053115 261.386947 118.615695 \nC 261.949527 119.178276 262.712658 119.494375 263.508267 119.494375 \nz\n\" style=\"fill:none;stroke:#ff0000;\"/>\n    </g>\n    <g id=\"text_13\">\n     <!-- Behaviorally irrelevant -->\n     <g transform=\"translate(281.508267 119.119375)scale(0.1 -0.1)\">\n      <defs>\n       <path d=\"M 1259 2228 \nL 1259 519 \nL 2272 519 \nQ 2781 519 3026 730 \nQ 3272 941 3272 1375 \nQ 3272 1813 3026 2020 \nQ 2781 2228 2272 2228 \nL 1259 2228 \nz\nM 1259 4147 \nL 1259 2741 \nL 2194 2741 \nQ 2656 2741 2882 2914 \nQ 3109 3088 3109 3444 \nQ 3109 3797 2882 3972 \nQ 2656 4147 2194 4147 \nL 1259 4147 \nz\nM 628 4666 \nL 2241 4666 \nQ 2963 4666 3353 4366 \nQ 3744 4066 3744 3513 \nQ 3744 3084 3544 2831 \nQ 3344 2578 2956 2516 \nQ 3422 2416 3680 2098 \nQ 3938 1781 3938 1306 \nQ 3938 681 3513 340 \nQ 3088 0 2303 0 \nL 628 0 \nL 628 4666 \nz\n\" id=\"DejaVuSans-42\" transform=\"scale(0.015625)\"/>\n       <path d=\"M 3513 2113 \nL 3513 0 \nL 2938 0 \nL 2938 2094 \nQ 2938 2591 2744 2837 \nQ 2550 3084 2163 3084 \nQ 1697 3084 1428 2787 \nQ 1159 2491 1159 1978 \nL 1159 0 \nL 581 0 \nL 581 4863 \nL 1159 4863 \nL 1159 2956 \nQ 1366 3272 1645 3428 \nQ 1925 3584 2291 3584 \nQ 2894 3584 3203 3211 \nQ 3513 2838 3513 2113 \nz\n\" id=\"DejaVuSans-68\" transform=\"scale(0.015625)\"/>\n       <path d=\"M 2059 -325 \nQ 1816 -950 1584 -1140 \nQ 1353 -1331 966 -1331 \nL 506 -1331 \nL 506 -850 \nL 844 -850 \nQ 1081 -850 1212 -737 \nQ 1344 -625 1503 -206 \nL 1606 56 \nL 191 3500 \nL 800 3500 \nL 1894 763 \nL 2988 3500 \nL 3597 3500 \nL 2059 -325 \nz\n\" id=\"DejaVuSans-79\" transform=\"scale(0.015625)\"/>\n      </defs>\n      <use xlink:href=\"#DejaVuSans-42\"/>\n      <use x=\"68.603516\" xlink:href=\"#DejaVuSans-65\"/>\n      <use x=\"130.126953\" xlink:href=\"#DejaVuSans-68\"/>\n      <use x=\"193.505859\" xlink:href=\"#DejaVuSans-61\"/>\n      <use x=\"254.785156\" xlink:href=\"#DejaVuSans-76\"/>\n      <use x=\"313.964844\" xlink:href=\"#DejaVuSans-69\"/>\n      <use x=\"341.748047\" xlink:href=\"#DejaVuSans-6f\"/>\n      <use x=\"402.929688\" xlink:href=\"#DejaVuSans-72\"/>\n      <use x=\"444.042969\" xlink:href=\"#DejaVuSans-61\"/>\n      <use x=\"505.322266\" xlink:href=\"#DejaVuSans-6c\"/>\n      <use x=\"533.105469\" xlink:href=\"#DejaVuSans-6c\"/>\n      <use x=\"560.888672\" xlink:href=\"#DejaVuSans-79\"/>\n      <use x=\"620.068359\" xlink:href=\"#DejaVuSans-20\"/>\n      <use x=\"651.855469\" xlink:href=\"#DejaVuSans-69\"/>\n      <use x=\"679.638672\" xlink:href=\"#DejaVuSans-72\"/>\n      <use x=\"719.001953\" xlink:href=\"#DejaVuSans-72\"/>\n      <use x=\"757.865234\" xlink:href=\"#DejaVuSans-65\"/>\n      <use x=\"819.388672\" xlink:href=\"#DejaVuSans-6c\"/>\n      <use x=\"847.171875\" xlink:href=\"#DejaVuSans-65\"/>\n      <use x=\"908.695312\" xlink:href=\"#DejaVuSans-76\"/>\n      <use x=\"967.875\" xlink:href=\"#DejaVuSans-61\"/>\n      <use x=\"1029.154297\" xlink:href=\"#DejaVuSans-6e\"/>\n      <use x=\"1092.533203\" xlink:href=\"#DejaVuSans-74\"/>\n     </g>\n    </g>\n    <g id=\"PathCollection_8\">\n     <path d=\"M 263.508267 134.1725 \nC 264.303876 134.1725 265.067007 133.856401 265.629587 133.29382 \nC 266.192168 132.73124 266.508267 131.968109 266.508267 131.1725 \nC 266.508267 130.376891 266.192168 129.61376 265.629587 129.05118 \nC 265.067007 128.488599 264.303876 128.1725 263.508267 128.1725 \nC 262.712658 128.1725 261.949527 128.488599 261.386947 129.05118 \nC 260.824366 129.61376 260.508267 130.376891 260.508267 131.1725 \nC 260.508267 131.968109 260.824366 132.73124 261.386947 133.29382 \nC 261.949527 133.856401 262.712658 134.1725 263.508267 134.1725 \nz\n\" style=\"fill:none;stroke:#00ff00;\"/>\n    </g>\n    <g id=\"text_14\">\n     <!-- Behaviorally relevant -->\n     <g transform=\"translate(281.508267 133.7975)scale(0.1 -0.1)\">\n      <use xlink:href=\"#DejaVuSans-42\"/>\n      <use x=\"68.603516\" xlink:href=\"#DejaVuSans-65\"/>\n      <use x=\"130.126953\" xlink:href=\"#DejaVuSans-68\"/>\n      <use x=\"193.505859\" xlink:href=\"#DejaVuSans-61\"/>\n      <use x=\"254.785156\" xlink:href=\"#DejaVuSans-76\"/>\n      <use x=\"313.964844\" xlink:href=\"#DejaVuSans-69\"/>\n      <use x=\"341.748047\" xlink:href=\"#DejaVuSans-6f\"/>\n      <use x=\"402.929688\" xlink:href=\"#DejaVuSans-72\"/>\n      <use x=\"444.042969\" xlink:href=\"#DejaVuSans-61\"/>\n      <use x=\"505.322266\" xlink:href=\"#DejaVuSans-6c\"/>\n      <use x=\"533.105469\" xlink:href=\"#DejaVuSans-6c\"/>\n      <use x=\"560.888672\" xlink:href=\"#DejaVuSans-79\"/>\n      <use x=\"620.068359\" xlink:href=\"#DejaVuSans-20\"/>\n      <use x=\"651.855469\" xlink:href=\"#DejaVuSans-72\"/>\n      <use x=\"690.71875\" xlink:href=\"#DejaVuSans-65\"/>\n      <use x=\"752.242188\" xlink:href=\"#DejaVuSans-6c\"/>\n      <use x=\"780.025391\" xlink:href=\"#DejaVuSans-65\"/>\n      <use x=\"841.548828\" xlink:href=\"#DejaVuSans-76\"/>\n      <use x=\"900.728516\" xlink:href=\"#DejaVuSans-61\"/>\n      <use x=\"962.007812\" xlink:href=\"#DejaVuSans-6e\"/>\n      <use x=\"1025.386719\" xlink:href=\"#DejaVuSans-74\"/>\n     </g>\n    </g>\n    <g id=\"PathCollection_9\">\n     <g>\n      <use style=\"fill:#00aa00;stroke:#00aa00;stroke-width:1.5;\" x=\"263.508267\" xlink:href=\"#m314bf69f67\" y=\"145.850625\"/>\n     </g>\n    </g>\n    <g id=\"text_15\">\n     <!-- PSID Identified (stage 1) -->\n     <g transform=\"translate(281.508267 148.475625)scale(0.1 -0.1)\">\n      <defs>\n       <path d=\"M 1259 4147 \nL 1259 2394 \nL 2053 2394 \nQ 2494 2394 2734 2622 \nQ 2975 2850 2975 3272 \nQ 2975 3691 2734 3919 \nQ 2494 4147 2053 4147 \nL 1259 4147 \nz\nM 628 4666 \nL 2053 4666 \nQ 2838 4666 3239 4311 \nQ 3641 3956 3641 3272 \nQ 3641 2581 3239 2228 \nQ 2838 1875 2053 1875 \nL 1259 1875 \nL 1259 0 \nL 628 0 \nL 628 4666 \nz\n\" id=\"DejaVuSans-50\" transform=\"scale(0.015625)\"/>\n       <path d=\"M 3425 4513 \nL 3425 3897 \nQ 3066 4069 2747 4153 \nQ 2428 4238 2131 4238 \nQ 1616 4238 1336 4038 \nQ 1056 3838 1056 3469 \nQ 1056 3159 1242 3001 \nQ 1428 2844 1947 2747 \nL 2328 2669 \nQ 3034 2534 3370 2195 \nQ 3706 1856 3706 1288 \nQ 3706 609 3251 259 \nQ 2797 -91 1919 -91 \nQ 1588 -91 1214 -16 \nQ 841 59 441 206 \nL 441 856 \nQ 825 641 1194 531 \nQ 1563 422 1919 422 \nQ 2459 422 2753 634 \nQ 3047 847 3047 1241 \nQ 3047 1584 2836 1778 \nQ 2625 1972 2144 2069 \nL 1759 2144 \nQ 1053 2284 737 2584 \nQ 422 2884 422 3419 \nQ 422 4038 858 4394 \nQ 1294 4750 2059 4750 \nQ 2388 4750 2728 4690 \nQ 3069 4631 3425 4513 \nz\n\" id=\"DejaVuSans-53\" transform=\"scale(0.015625)\"/>\n       <path d=\"M 628 4666 \nL 1259 4666 \nL 1259 0 \nL 628 0 \nL 628 4666 \nz\n\" id=\"DejaVuSans-49\" transform=\"scale(0.015625)\"/>\n       <path d=\"M 1259 4147 \nL 1259 519 \nL 2022 519 \nQ 2988 519 3436 956 \nQ 3884 1394 3884 2338 \nQ 3884 3275 3436 3711 \nQ 2988 4147 2022 4147 \nL 1259 4147 \nz\nM 628 4666 \nL 1925 4666 \nQ 3281 4666 3915 4102 \nQ 4550 3538 4550 2338 \nQ 4550 1131 3912 565 \nQ 3275 0 1925 0 \nL 628 0 \nL 628 4666 \nz\n\" id=\"DejaVuSans-44\" transform=\"scale(0.015625)\"/>\n       <path d=\"M 1984 4856 \nQ 1566 4138 1362 3434 \nQ 1159 2731 1159 2009 \nQ 1159 1288 1364 580 \nQ 1569 -128 1984 -844 \nL 1484 -844 \nQ 1016 -109 783 600 \nQ 550 1309 550 2009 \nQ 550 2706 781 3412 \nQ 1013 4119 1484 4856 \nL 1984 4856 \nz\n\" id=\"DejaVuSans-28\" transform=\"scale(0.015625)\"/>\n       <path d=\"M 513 4856 \nL 1013 4856 \nQ 1481 4119 1714 3412 \nQ 1947 2706 1947 2009 \nQ 1947 1309 1714 600 \nQ 1481 -109 1013 -844 \nL 513 -844 \nQ 928 -128 1133 580 \nQ 1338 1288 1338 2009 \nQ 1338 2731 1133 3434 \nQ 928 4138 513 4856 \nz\n\" id=\"DejaVuSans-29\" transform=\"scale(0.015625)\"/>\n      </defs>\n      <use xlink:href=\"#DejaVuSans-50\"/>\n      <use x=\"60.302734\" xlink:href=\"#DejaVuSans-53\"/>\n      <use x=\"123.779297\" xlink:href=\"#DejaVuSans-49\"/>\n      <use x=\"153.271484\" xlink:href=\"#DejaVuSans-44\"/>\n      <use x=\"230.273438\" xlink:href=\"#DejaVuSans-20\"/>\n      <use x=\"262.060547\" xlink:href=\"#DejaVuSans-49\"/>\n      <use x=\"291.552734\" xlink:href=\"#DejaVuSans-64\"/>\n      <use x=\"355.029297\" xlink:href=\"#DejaVuSans-65\"/>\n      <use x=\"416.552734\" xlink:href=\"#DejaVuSans-6e\"/>\n      <use x=\"479.931641\" xlink:href=\"#DejaVuSans-74\"/>\n      <use x=\"519.140625\" xlink:href=\"#DejaVuSans-69\"/>\n      <use x=\"546.923828\" xlink:href=\"#DejaVuSans-66\"/>\n      <use x=\"582.128906\" xlink:href=\"#DejaVuSans-69\"/>\n      <use x=\"609.912109\" xlink:href=\"#DejaVuSans-65\"/>\n      <use x=\"671.435547\" xlink:href=\"#DejaVuSans-64\"/>\n      <use x=\"734.912109\" xlink:href=\"#DejaVuSans-20\"/>\n      <use x=\"766.699219\" xlink:href=\"#DejaVuSans-28\"/>\n      <use x=\"805.712891\" xlink:href=\"#DejaVuSans-73\"/>\n      <use x=\"857.8125\" xlink:href=\"#DejaVuSans-74\"/>\n      <use x=\"897.021484\" xlink:href=\"#DejaVuSans-61\"/>\n      <use x=\"958.300781\" xlink:href=\"#DejaVuSans-67\"/>\n      <use x=\"1021.777344\" xlink:href=\"#DejaVuSans-65\"/>\n      <use x=\"1083.300781\" xlink:href=\"#DejaVuSans-20\"/>\n      <use x=\"1115.087891\" xlink:href=\"#DejaVuSans-31\"/>\n      <use x=\"1178.710938\" xlink:href=\"#DejaVuSans-29\"/>\n     </g>\n    </g>\n    <g id=\"PathCollection_10\">\n     <g>\n      <use style=\"fill:#aa0000;stroke:#aa0000;stroke-width:1.5;\" x=\"263.508267\" xlink:href=\"#ma15d119fd0\" y=\"160.52875\"/>\n     </g>\n    </g>\n    <g id=\"text_16\">\n     <!-- (optional) PSID Identified (stage 2) -->\n     <g transform=\"translate(281.508267 163.15375)scale(0.1 -0.1)\">\n      <defs>\n       <path d=\"M 1159 525 \nL 1159 -1331 \nL 581 -1331 \nL 581 3500 \nL 1159 3500 \nL 1159 2969 \nQ 1341 3281 1617 3432 \nQ 1894 3584 2278 3584 \nQ 2916 3584 3314 3078 \nQ 3713 2572 3713 1747 \nQ 3713 922 3314 415 \nQ 2916 -91 2278 -91 \nQ 1894 -91 1617 61 \nQ 1341 213 1159 525 \nz\nM 3116 1747 \nQ 3116 2381 2855 2742 \nQ 2594 3103 2138 3103 \nQ 1681 3103 1420 2742 \nQ 1159 2381 1159 1747 \nQ 1159 1113 1420 752 \nQ 1681 391 2138 391 \nQ 2594 391 2855 752 \nQ 3116 1113 3116 1747 \nz\n\" id=\"DejaVuSans-70\" transform=\"scale(0.015625)\"/>\n       <path d=\"M 1228 531 \nL 3431 531 \nL 3431 0 \nL 469 0 \nL 469 531 \nQ 828 903 1448 1529 \nQ 2069 2156 2228 2338 \nQ 2531 2678 2651 2914 \nQ 2772 3150 2772 3378 \nQ 2772 3750 2511 3984 \nQ 2250 4219 1831 4219 \nQ 1534 4219 1204 4116 \nQ 875 4013 500 3803 \nL 500 4441 \nQ 881 4594 1212 4672 \nQ 1544 4750 1819 4750 \nQ 2544 4750 2975 4387 \nQ 3406 4025 3406 3419 \nQ 3406 3131 3298 2873 \nQ 3191 2616 2906 2266 \nQ 2828 2175 2409 1742 \nQ 1991 1309 1228 531 \nz\n\" id=\"DejaVuSans-32\" transform=\"scale(0.015625)\"/>\n      </defs>\n      <use xlink:href=\"#DejaVuSans-28\"/>\n      <use x=\"39.013672\" xlink:href=\"#DejaVuSans-6f\"/>\n      <use x=\"100.195312\" xlink:href=\"#DejaVuSans-70\"/>\n      <use x=\"163.671875\" xlink:href=\"#DejaVuSans-74\"/>\n      <use x=\"202.880859\" xlink:href=\"#DejaVuSans-69\"/>\n      <use x=\"230.664062\" xlink:href=\"#DejaVuSans-6f\"/>\n      <use x=\"291.845703\" xlink:href=\"#DejaVuSans-6e\"/>\n      <use x=\"355.224609\" xlink:href=\"#DejaVuSans-61\"/>\n      <use x=\"416.503906\" xlink:href=\"#DejaVuSans-6c\"/>\n      <use x=\"444.287109\" xlink:href=\"#DejaVuSans-29\"/>\n      <use x=\"483.300781\" xlink:href=\"#DejaVuSans-20\"/>\n      <use x=\"515.087891\" xlink:href=\"#DejaVuSans-50\"/>\n      <use x=\"575.390625\" xlink:href=\"#DejaVuSans-53\"/>\n      <use x=\"638.867188\" xlink:href=\"#DejaVuSans-49\"/>\n      <use x=\"668.359375\" xlink:href=\"#DejaVuSans-44\"/>\n      <use x=\"745.361328\" xlink:href=\"#DejaVuSans-20\"/>\n      <use x=\"777.148438\" xlink:href=\"#DejaVuSans-49\"/>\n      <use x=\"806.640625\" xlink:href=\"#DejaVuSans-64\"/>\n      <use x=\"870.117188\" xlink:href=\"#DejaVuSans-65\"/>\n      <use x=\"931.640625\" xlink:href=\"#DejaVuSans-6e\"/>\n      <use x=\"995.019531\" xlink:href=\"#DejaVuSans-74\"/>\n      <use x=\"1034.228516\" xlink:href=\"#DejaVuSans-69\"/>\n      <use x=\"1062.011719\" xlink:href=\"#DejaVuSans-66\"/>\n      <use x=\"1097.216797\" xlink:href=\"#DejaVuSans-69\"/>\n      <use x=\"1125\" xlink:href=\"#DejaVuSans-65\"/>\n      <use x=\"1186.523438\" xlink:href=\"#DejaVuSans-64\"/>\n      <use x=\"1250\" xlink:href=\"#DejaVuSans-20\"/>\n      <use x=\"1281.787109\" xlink:href=\"#DejaVuSans-28\"/>\n      <use x=\"1320.800781\" xlink:href=\"#DejaVuSans-73\"/>\n      <use x=\"1372.900391\" xlink:href=\"#DejaVuSans-74\"/>\n      <use x=\"1412.109375\" xlink:href=\"#DejaVuSans-61\"/>\n      <use x=\"1473.388672\" xlink:href=\"#DejaVuSans-67\"/>\n      <use x=\"1536.865234\" xlink:href=\"#DejaVuSans-65\"/>\n      <use x=\"1598.388672\" xlink:href=\"#DejaVuSans-20\"/>\n      <use x=\"1630.175781\" xlink:href=\"#DejaVuSans-32\"/>\n      <use x=\"1693.798828\" xlink:href=\"#DejaVuSans-29\"/>\n     </g>\n    </g>\n   </g>\n  </g>\n </g>\n <defs>\n  <clipPath id=\"p57e5e68e1f\">\n   <rect height=\"217.44\" width=\"202.909091\" x=\"38.482813\" y=\"22.318125\"/>\n  </clipPath>\n </defs>\n</svg>\n",
            "image/png": "[encoded data removed]"
          },
          "metadata": {
            "needs_background": "light"
          }
        }
      ]
    },
    {
      "cell_type": "markdown",
      "metadata": {
        "id": "OIg0PhNeFcyj"
      },
      "source": [
        "# Using PSID with trial based data\r\n",
        "You can also use PSID if the data is available in separate chunks, for example across many trials. To do this, simply pass a python list with the data in each chunk/trial as the argument to PSID. The trials don't need to have the same number of samples either. \r\n",
        "\r\n",
        "Below is an exmaple, where we break the same data as before in small chunks of random length, and then pass it to PSID."
      ]
    },
    {
      "source": [
        "## (Example 3) PSID can be used if data is available in discontinuous segments (e.g. different trials)\n",
        "# In this case, y and z data segments must be provided as elements of a list\n",
        "# Trials do not need to have the same number of samples\n",
        "# Here, for example assume that trials start at every 1000 samples.\n",
        "# And each each trial has a random length of 500 to 900 samples\n",
        "trialStartInds = np.arange(0, allYData.shape[0]-1000, 1000)\n",
        "trialDurRange = np.array([900, 990])\n",
        "trialDur = np.random.randint(low=trialDurRange[0], high=1+trialDurRange[1], size=trialStartInds.shape)\n",
        "trialInds = [trialStartInds[ti]+np.arange(trialDur[ti]) for ti in range(trialStartInds.size)] \n",
        "yTrials = [allYData[trialIndsThis, :] for trialIndsThis in trialInds] \n",
        "zTrials = [allZData[trialIndsThis, :] for trialIndsThis in trialInds] \n",
        "\n",
        "# Separate data into training and test data:\n",
        "trainInds = np.arange(np.round(0.5*len(yTrials)), dtype=int)\n",
        "testInds = np.arange(1+trainInds[-1], len(yTrials))\n",
        "yTrain = [yTrials[ti] for ti in trainInds]\n",
        "yTest = [yTrials[ti] for ti in testInds]\n",
        "zTrain = [zTrials[ti] for ti in trainInds]\n",
        "zTest = [zTrials[ti] for ti in testInds]\n",
        "\n",
        "idSys3 = psid.PSID(yTrain, zTrain, nx=2, n1=2, i=10)\n",
        "\n",
        "for ti in range(len(yTest)):\n",
        "  zPredThis, yPredThis, xPredThis = idSys3.predict(yTest[ti])\n",
        "  zPredThisIdeal, yPredThisIdeal, xPredThisIdeal = trueSys.predict(yTest[ti])\n",
        "  if ti == 0:\n",
        "    zTestA = zTest[ti]\n",
        "    zPredA = zPredThis\n",
        "    zPredIdealA = zPredThisIdeal\n",
        "  else:\n",
        "    zTestA = np.concatenate( (zTestA, zTest[ti]), axis=0)\n",
        "    zPredA = np.concatenate( (zPredA, zPredThis), axis=0)\n",
        "    zPredIdealA = np.concatenate( (zPredIdealA, zPredThisIdeal), axis=0)\n",
        "\n",
        "CCTrialBased = evalPrediction(zTestA, zPredA, 'CC')\n",
        "CCTrialBasedIdeal = evalPrediction(zTestA, zPredIdealA, 'CC')\n",
        "\n",
        "print('Behavior decoding CC (trial-based learning/decoding):\\n  PSID => {:.3g}, Ideal using true model = {:.3g}'.format(np.mean(CCTrialBased), np.mean(CCTrialBasedIdeal)) )"
      ],
      "cell_type": "code",
      "metadata": {
        "colab": {
          "base_uri": "https://localhost:8080/"
        },
        "id": "-McGIeBhE90J",
        "outputId": "91fa16cf-aa58-4688-e695-5c675dd12886"
      },
      "execution_count": 9,
      "outputs": [
        {
          "output_type": "stream",
          "name": "stdout",
          "text": [
            "Behavior decoding CC (trial-based learning/decoding):\n  PSID => 0.641, Ideal using true model = 0.641\n"
          ]
        }
      ]
    },
    {
      "source": [
        "# How to pick the state dimensions `nx` and `n1`?\n",
        "`nx` determines the total dimension of the latent state and `n1` determines how many of those dimensions will be priorotizing the inclusion of behaviorally relevant neural dynamcis (i.e. will be extracted using stage 1 of PSID). So the values that you would select for these hyperparameters depend on the goal of modeling and on the data. Some examples use cases are:\n",
        "- If you want to perform dimension reduction, `nx` will be your desired target dimension. For example, to reduce dimension to 2 to plot low-dimensional visualizations of neural activity, you would use `nx=2`. Now if you want to reduce dimension while preservising as much behaviorally relevant neural dynamics as possible, you would use `n1=nx`. \n",
        "- If you want to find the best fit to data overall, you can perform a grid search over values of `nx` and `n1` and pick the value that achieves the best performance metric in the training data. For exmaple, you could pick the `nx` and `n1` pair that achieves the best cross-validated behavior decoding in an inner-cross-validation within the training data.\n",
        "\n",
        "# How to pick the horizon `i`?\n",
        "The horizon `i` does not affect the model structure and only affects the intermediate linear algebra operations that PSID performs during the learning of the model. Nevertheless, different values of `i` may have different model learning performance. `i` needs to be at least 2, but also also determines the maximum `n1` and `nx` that can be used per: \n",
        "```\n",
        "n1 <= nz * i\n",
        "nx <= ny * i\n",
        "```\n",
        "So if you have a low dimensional y or z, you typically would choose larger values for `i`, and vice versa. It is also possible to select the best performing `i` via an inner cross-validation approach similar to `nx` and `n1` above."
      ],
      "cell_type": "markdown",
      "metadata": {}
    }
  ]
}