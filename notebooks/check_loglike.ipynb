{
 "cells": [
  {
   "cell_type": "code",
   "execution_count": 1,
   "id": "2da8e82b",
   "metadata": {},
   "outputs": [
    {
     "name": "stdout",
     "output_type": "stream",
     "text": [
      "[PhysicalDevice(name='/physical_device:GPU:0', device_type='GPU')]\n"
     ]
    }
   ],
   "source": [
    "import os\n",
    "import tensorflow as tf\n",
    "import numpy as np\n",
    "\n",
    "use_cpu = False\n",
    "\n",
    "if use_cpu:\n",
    "    os.environ['CUDA_VISIBLE_DEVICES'] = '-1'\n",
    "    os.environ['CPU_ONLY'] = \"TRUE\"\n",
    "\n",
    "    physical_devices = tf.config.list_physical_devices('CPU')\n",
    "\n",
    "    tf.config.set_logical_device_configuration(\n",
    "        physical_devices[0],\n",
    "        [tf.config.LogicalDeviceConfiguration() for i in range(8)])\n",
    "    logical_devices = tf.config.list_logical_devices('CPU')\n",
    "\n",
    "    print(logical_devices)\n",
    "else:\n",
    "    os.environ['CPU_ONLY'] = \"FALSE\"\n",
    "    physical_devices = tf.config.list_physical_devices('GPU')\n",
    "    print(physical_devices)"
   ]
  },
  {
   "cell_type": "code",
   "execution_count": 2,
   "id": "97cef35d",
   "metadata": {},
   "outputs": [],
   "source": [
    "from latentneural.data import DataManager\n",
    "from latentneural import LFADS\n",
    "\n",
    "data_dir = os.path.join('..', 'latentneural', 'data', 'storage', 'lorenz', '20210610T215300')\n",
    "dataset, settings = DataManager.load_dataset(\n",
    "    directory=data_dir,\n",
    "    filename='dataset.h5')"
   ]
  },
  {
   "cell_type": "code",
   "execution_count": 3,
   "id": "093ce28b",
   "metadata": {},
   "outputs": [],
   "source": [
    "neural_data = dataset['train_data'].astype('float')"
   ]
  },
  {
   "cell_type": "code",
   "execution_count": 4,
   "id": "9e70f358",
   "metadata": {},
   "outputs": [
    {
     "name": "stdout",
     "output_type": "stream",
     "text": [
      "48137.016\n",
      "48137.11\n"
     ]
    }
   ],
   "source": [
    "targets = tf.cast(neural_data, dtype=tf.float32)\n",
    "log_f = tf.cast(np.log(settings['step'] * dataset['train_rates']), tf.float32)\n",
    "\n",
    "loss_tf_r = tf.nn.log_poisson_loss(\n",
    "    targets=targets, \n",
    "    log_input=log_f, compute_full_loss=True\n",
    ").numpy()\n",
    "\n",
    "loss_math_r = - (targets * log_f - tf.exp(log_f) - tf.math.lgamma(targets + 1))\n",
    "\n",
    "\n",
    "loss_tf = np.sum(loss_tf_r)\n",
    "loss_math = np.sum(loss_math_r)\n",
    "print(loss_tf)\n",
    "print(loss_math)"
   ]
  },
  {
   "cell_type": "code",
   "execution_count": 5,
   "id": "f4be99f1",
   "metadata": {},
   "outputs": [
    {
     "name": "stdout",
     "output_type": "stream",
     "text": [
      "[1.e+30]\n",
      "[1.e+30]\n"
     ]
    }
   ],
   "source": [
    "log_f = np.array([-1e+20], dtype=np.float32)\n",
    "targets = np.array([1e+10], dtype=np.float32)\n",
    "\n",
    "print(tf.nn.log_poisson_loss(log_input=log_f, targets=targets).numpy())\n",
    "print((- (targets * log_f - tf.exp(log_f) - tf.math.lgamma(targets + 1))).numpy())"
   ]
  },
  {
   "cell_type": "code",
   "execution_count": 6,
   "id": "e2356a04",
   "metadata": {},
   "outputs": [
    {
     "name": "stderr",
     "output_type": "stream",
     "text": [
      "<ipython-input-6-d73ab3d65deb>:4: RuntimeWarning: overflow encountered in multiply\n",
      "  logp = targets * log_input - tf.exp(log_input) - tf.math.lgamma(targets + 1)\n"
     ]
    },
    {
     "data": {
      "text/plain": [
       "<tf.Tensor: shape=(1,), dtype=float32, numpy=array([nan], dtype=float32)>"
      ]
     },
     "execution_count": 6,
     "metadata": {},
     "output_type": "execute_result"
    }
   ],
   "source": [
    "log_input=np.array([1e+38], dtype=np.float32)\n",
    "targets=np.array([1e+38], dtype=np.float32)\n",
    "\n",
    "logp = targets * log_input - tf.exp(log_input) - tf.math.lgamma(targets + 1)\n",
    "\n",
    "logp"
   ]
  },
  {
   "cell_type": "code",
   "execution_count": 7,
   "id": "c7acc9c2",
   "metadata": {},
   "outputs": [
    {
     "data": {
      "text/plain": [
       "<tf.Tensor: shape=(1,), dtype=float32, numpy=array([inf], dtype=float32)>"
      ]
     },
     "execution_count": 7,
     "metadata": {},
     "output_type": "execute_result"
    }
   ],
   "source": [
    "tf.math.lgamma(targets + 1)"
   ]
  },
  {
   "cell_type": "code",
   "execution_count": 8,
   "id": "408b7255",
   "metadata": {},
   "outputs": [
    {
     "data": {
      "text/plain": [
       "<tf.Tensor: shape=(1,), dtype=float32, numpy=array([inf], dtype=float32)>"
      ]
     },
     "execution_count": 8,
     "metadata": {},
     "output_type": "execute_result"
    }
   ],
   "source": [
    "tf.exp(log_input)"
   ]
  }
 ],
 "metadata": {
  "kernelspec": {
   "display_name": "latentneural",
   "language": "python",
   "name": "latentneural"
  },
  "language_info": {
   "codemirror_mode": {
    "name": "ipython",
    "version": 3
   },
   "file_extension": ".py",
   "mimetype": "text/x-python",
   "name": "python",
   "nbconvert_exporter": "python",
   "pygments_lexer": "ipython3",
   "version": "3.8.10"
  }
 },
 "nbformat": 4,
 "nbformat_minor": 5
}
